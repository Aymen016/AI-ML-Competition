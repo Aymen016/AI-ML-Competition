{
 "cells": [
  {
   "cell_type": "code",
   "execution_count": 5,
   "id": "2219b7b2-97a3-4aae-978c-019caf6cc0f7",
   "metadata": {},
   "outputs": [
    {
     "name": "stdout",
     "output_type": "stream",
     "text": [
      "Predictions completed! Submission file saved.\n"
     ]
    }
   ],
   "source": [
    "import pandas as pd\n",
    "import joblib\n",
    "\n",
    "# Load preprocessed test data\n",
    "test_df = pd.read_csv(\"preprocessed_test.csv\")\n",
    "\n",
    "# Load trained model\n",
    "rf_model = joblib.load(\"trained_model.pkl\")\n",
    "\n",
    "# Ensure User_Key is kept separately for submission but removed from features\n",
    "user_keys = test_df[\"User_Key\"]  # Store User_Key for later\n",
    "test_features = test_df.drop(columns=[\"User_Key\"])  # Remove it before prediction\n",
    "\n",
    "# Make predictions\n",
    "test_df[\"Next_Purchase\"] = rf_model.predict(test_features)\n",
    "\n",
    "# Prepare submission file\n",
    "submission = pd.DataFrame({\"User_Key\": user_keys, \"Next_Purchase\": test_df[\"Next_Purchase\"]})\n",
    "submission.to_csv(\"AymenBaig_PredictionOfNextPurchse_result.csv\", index=False)\n",
    "\n",
    "print(\"Predictions completed! Submission file saved.\")\n"
   ]
  },
  {
   "cell_type": "code",
   "execution_count": null,
   "id": "1293f357-cb6d-4131-b234-2ae4b880e657",
   "metadata": {},
   "outputs": [],
   "source": []
  }
 ],
 "metadata": {
  "kernelspec": {
   "display_name": "Python 3 (ipykernel)",
   "language": "python",
   "name": "python3"
  },
  "language_info": {
   "codemirror_mode": {
    "name": "ipython",
    "version": 3
   },
   "file_extension": ".py",
   "mimetype": "text/x-python",
   "name": "python",
   "nbconvert_exporter": "python",
   "pygments_lexer": "ipython3",
   "version": "3.11.4"
  }
 },
 "nbformat": 4,
 "nbformat_minor": 5
}
